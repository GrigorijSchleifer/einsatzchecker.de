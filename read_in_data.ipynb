{
 "cells": [
  {
   "cell_type": "code",
   "execution_count": 1,
   "metadata": {},
   "outputs": [],
   "source": [
    "# import the module? to read in lines\n",
    "import readline\n",
    "import pandas as pd\n",
    "import re"
   ]
  },
  {
   "cell_type": "code",
   "execution_count": 9,
   "metadata": {},
   "outputs": [],
   "source": [
    "# dictionary of patters to search for in the text\n",
    "patterns_dict = {\n",
    "    'wann':r'Stand:.*',\n",
    "    'voraussetzungen': r'.*Voraussetzungen:.*',\n",
    "    'datum': r'\\b\\d{2}\\.\\d{2}\\.\\d{4}\\b'\n",
    "\n",
    "}\n",
    "def extract_lines(text):\n",
    "    # looping over patters in the dictionary and search for them in the text\n",
    "    for item, ptn in patterns_dict.items():\n",
    "        lines = re.findall(ptn, text)\n",
    "        # add a columnt and fill it with lines matching the pattern\n",
    "        df = pd.DataFrame({item: lines})\n",
    "        return lines\n",
    "\n",
    "# Read the text file\n",
    "with open('data_viel.txt', 'r') as file:\n",
    "    text = file.read()\n",
    "\n",
    "# Extract the lines containing \"Voraussetzungen:\"\n",
    "lines = extract_lines(text)\n",
    "\n",
    "# Create a DataFrame"
   ]
  },
  {
   "cell_type": "code",
   "execution_count": 10,
   "metadata": {},
   "outputs": [
    {
     "name": "stdout",
     "output_type": "stream",
     "text": [
      "['Stand: 22.06.2023']\n"
     ]
    }
   ],
   "source": [
    "print(lines)"
   ]
  },
  {
   "cell_type": "code",
   "execution_count": null,
   "metadata": {},
   "outputs": [],
   "source": [
    "['22.06.2023', '25.06.2023', '26.06.2023', '27.06.2023', '28.06.2023', '29.06.2023', '29.06.2023', '29.06.2023', '29.06.2023', '30.06.2023', '02.07.2023', '02.07.2023', '02.07.2023', '03.07.2023', '03.07.2023', '05.07.2023', '05.07.2023', '06.07.2023', '06.07.2023', '07.07.2023', '07.07.2023']"
   ]
  }
 ],
 "metadata": {
  "kernelspec": {
   "display_name": "Python 3.9.13 ('pfe')",
   "language": "python",
   "name": "python3"
  },
  "language_info": {
   "codemirror_mode": {
    "name": "ipython",
    "version": 3
   },
   "file_extension": ".py",
   "mimetype": "text/x-python",
   "name": "python",
   "nbconvert_exporter": "python",
   "pygments_lexer": "ipython3",
   "version": "3.9.13"
  },
  "orig_nbformat": 4,
  "vscode": {
   "interpreter": {
    "hash": "ca3fe684c709609a101a86d3c1b128daea1b39f434c98fb02bc126e7e1331602"
   }
  }
 },
 "nbformat": 4,
 "nbformat_minor": 2
}
